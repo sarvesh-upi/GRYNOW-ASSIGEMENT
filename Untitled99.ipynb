{
 "cells": [
  {
   "cell_type": "code",
   "execution_count": 3,
   "metadata": {},
   "outputs": [
    {
     "name": "stdout",
     "output_type": "stream",
     "text": [
      "*********************************NAME-SARVESH KUMAR********************************\n",
      "\n",
      "*********************************COLLEGE-LOVELY PROFESSIONAL UNIVERSITY********************************\n",
      "\n",
      "*********************************PASSING_YEAR-2023********************************\n",
      "\n",
      "*********************************EMAIL_id-sarvesh0829@gmail.com********************************\n",
      "Leather wallet:1100\n",
      "umbrella:900\n",
      "cigratte:200\n",
      "Honey:100\n",
      "\n",
      "Choose an item: Leather wallet, umberlla, cigratte, Honey\n",
      "Honey\n",
      "Would you like to pick another order? y/n\n",
      "n\n",
      "Total cost: 400\n",
      " \n"
     ]
    }
   ],
   "source": [
    "Leather_wallet=1100.00\n",
    "umbrella=900.00\n",
    "cigratte=200.00\n",
    "Honey=100.00\n",
    "print(\"*********************************NAME-SARVESH KUMAR********************************\\n\")\n",
    "print(\"*********************************COLLEGE-LOVELY PROFESSIONAL UNIVERSITY********************************\\n\")\n",
    "print(\"*********************************PASSING_YEAR-2023********************************\\n\")\n",
    "print(\"*********************************EMAIL_id-sarvesh0829@gmail.com********************************\")\n",
    "\n",
    "print(\"Leather wallet:1100\")\n",
    "print(\"umbrella:900\")\n",
    "print(\"cigratte:200\")\n",
    "print(\"Honey:100\")\n",
    "\n",
    "while True:\n",
    "    choice=input('\\nChoose an item: Leather wallet, umberlla, cigratte, Honey\\n')\n",
    "    quantity=1\n",
    "    rate=1100+198-64.9\n",
    "    totalamount=(quantity*rate)\n",
    "    if choice == 'Leather wallet':\n",
    "        choice=input('Would you like to pick another order? y/n\\n')\n",
    "        if choice == 'y':\n",
    "            choice=input('\\nChoose an item: Leather wallet, umberlla, cigratte, Honey\\n')\n",
    "        else:\n",
    "                print(\"total:\",totalamount)\n",
    "                print(\" \")\n",
    "    elif choice == 'umberlla':\n",
    "        choice=input('Would you like to pick another order? y/n\\n')\n",
    "        quantity=2\n",
    "        rate=900+108-50.4\n",
    "        totalamount=(quantity*rate)\n",
    "        if choice == 'y':\n",
    "            choice=input('\\nChoose an item: Leather wallet, umberlla, cigratte, Honey\\n')\n",
    "        else:\n",
    "                print(\"Total cost:\",totalamount)\n",
    "                print(\" \")\n",
    "    elif choice == 'cigratte':\n",
    "        choice=input('Would you like to pick another order? y/n\\n')\n",
    "        quantity=3\n",
    "        rate=200+56\n",
    "        totalamount=(quantity*rate)\n",
    "        if choice == 'y':\n",
    "            choice=input('\\nChoose an item: Leather wallet, umberlla, cigratte, Honey\\n')\n",
    "        else:\n",
    "                print(\"Total cost:\",totalamount)\n",
    "                print(\" \")\n",
    "    elif choice == 'Honey':\n",
    "        choice=input('Would you like to pick another order? y/n\\n')\n",
    "        quantity=4\n",
    "        rate=100\n",
    "        totalamount=(quantity*rate)\n",
    "        if choice == 'y':\n",
    "            choice=input('\\nChoose an item: Leather wallet, umberlla, cigratte, Honey\\n')\n",
    "        else:\n",
    "                print(\"Total cost:\",totalamount)\n",
    "                print(\" \")\n",
    "    else: \n",
    "        print(\"Error!\")\n",
    "    break"
   ]
  },
  {
   "cell_type": "code",
   "execution_count": null,
   "metadata": {},
   "outputs": [],
   "source": []
  }
 ],
 "metadata": {
  "kernelspec": {
   "display_name": "Python 3",
   "language": "python",
   "name": "python3"
  },
  "language_info": {
   "codemirror_mode": {
    "name": "ipython",
    "version": 3
   },
   "file_extension": ".py",
   "mimetype": "text/x-python",
   "name": "python",
   "nbconvert_exporter": "python",
   "pygments_lexer": "ipython3",
   "version": "3.7.4"
  }
 },
 "nbformat": 4,
 "nbformat_minor": 2
}
